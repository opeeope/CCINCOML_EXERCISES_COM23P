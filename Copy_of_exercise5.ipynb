{
  "nbformat": 4,
  "nbformat_minor": 0,
  "metadata": {
    "colab": {
      "provenance": [],
      "history_visible": true,
      "include_colab_link": true
    },
    "kernelspec": {
      "name": "python3",
      "display_name": "Python 3"
    },
    "language_info": {
      "name": "python"
    }
  },
  "cells": [
    {
      "cell_type": "markdown",
      "metadata": {
        "id": "view-in-github",
        "colab_type": "text"
      },
      "source": [
        "<a href=\"https://colab.research.google.com/github/opeeope/CCINCOML_EXERCISES_COM23P/blob/main/Copy_of_exercise5.ipynb\" target=\"_parent\"><img src=\"https://colab.research.google.com/assets/colab-badge.svg\" alt=\"Open In Colab\"/></a>"
      ]
    },
    {
      "cell_type": "markdown",
      "source": [
        "# Exercise 5"
      ],
      "metadata": {
        "id": "2YKNSy_M9wSB"
      }
    },
    {
      "cell_type": "markdown",
      "source": [
        "1. Compute the average\n",
        "\n",
        "My electricity bills for the last three months have been 23, 32 and 64.\n",
        "\n",
        "- What is the average monthly electricity bill over the three month period?\n",
        "\n",
        "- Write an expression to calculate the mean, and use print() to view the result."
      ],
      "metadata": {
        "id": "AW0H1ylt3H9g"
      }
    },
    {
      "cell_type": "code",
      "execution_count": 38,
      "metadata": {
        "id": "3a9CllzZ28_6",
        "colab": {
          "base_uri": "https://localhost:8080/"
        },
        "outputId": "acf5a985-b981-4ca9-a6b0-b401fe15bfd7"
      },
      "outputs": [
        {
          "output_type": "stream",
          "name": "stdout",
          "text": [
            "39.666666666666664\n"
          ]
        }
      ],
      "source": [
        "First_month = 23\n",
        "Second_month = 32\n",
        "Third_month = 64\n",
        "\n",
        "num_of_months = 3\n",
        "\n",
        "average = (First + Second + Third) / num_of_months\n",
        "\n",
        "print(average)"
      ]
    },
    {
      "cell_type": "markdown",
      "source": [],
      "metadata": {
        "id": "h0U-lEyECY5U"
      }
    },
    {
      "cell_type": "markdown",
      "source": [
        "2. Create a condition\n",
        "\n",
        "The code below calculates the population densities of Rio de Janeiro and San Francisco.\n",
        "\n",
        "Write a code to compare these densities. Is the population of San Francisco more dense than that of Rio de Janeiro? Print True if it is and False if not."
      ],
      "metadata": {
        "id": "lDgi4WMA3UDM"
      }
    },
    {
      "cell_type": "code",
      "source": [
        "sf_population, sf_area = 864816, 231.89\n",
        "rio_population, rio_area = 6453682, 486.5\n",
        "\n",
        "san_francisco_pop_density = sf_population/sf_area\n",
        "rio_de_janeiro_pop_density = rio_population/rio_area\n",
        "\n",
        "is_sf_denser = san_francisco_pop_density > rio_de_janeiro_pop_density\n",
        "print(is_sf_denser)\n",
        "\n",
        "\n"
      ],
      "metadata": {
        "id": "-K4Umghk34X3",
        "colab": {
          "base_uri": "https://localhost:8080/"
        },
        "outputId": "56190c31-13d6-4925-ef85-e56b73abbf81"
      },
      "execution_count": 34,
      "outputs": [
        {
          "output_type": "stream",
          "name": "stdout",
          "text": [
            "False\n"
          ]
        }
      ]
    },
    {
      "cell_type": "code",
      "source": [],
      "metadata": {
        "id": "1NR53Be1Kf0P"
      },
      "execution_count": null,
      "outputs": []
    },
    {
      "cell_type": "markdown",
      "source": [
        "3. Fix the error\n",
        "\n",
        "The line of code below will cause a SyntaxError, thanks to the misuse of quotation marks.\n",
        "\n",
        "\n",
        "*   First run it with Test Run to view the error message.\n",
        "*   Then resolve the problem so that the quote (from Henry Ford(opens in a new tab)) is correctly assigned to the variable ford_quote.\n"
      ],
      "metadata": {
        "id": "USYreRUmKZOH"
      }
    },
    {
      "cell_type": "code",
      "source": [
        "ford_quote = 'Whether_you_think_you can,_or_you_think_you_can\\'t\\--you\\'re right.'"
      ],
      "metadata": {
        "id": "J-C5fC2LK3bg"
      },
      "execution_count": 107,
      "outputs": []
    },
    {
      "cell_type": "code",
      "source": [
        "ford_quote = 'Whether_you_think_you can,_or_you_think_you_can\\'t\\--you\\'re right.'"
      ],
      "metadata": {
        "id": "xARijZmm4bp2"
      },
      "execution_count": 23,
      "outputs": []
    },
    {
      "cell_type": "markdown",
      "source": [
        "4. Write a server log message\n",
        "\n",
        "You’ll be provided with example data for a user, the time of their visit and the site they accessed. You should use the variables provided and the techniques you’ve learned to print a log message like this one (with the username, url, and timestamp replaced with values from the appropriate variables):"
      ],
      "metadata": {
        "id": "wZBoOGlh4zf9"
      }
    },
    {
      "cell_type": "code",
      "source": [
        "username = \"Kinari\"\n",
        "timestamp = \"04:50\"\n",
        "url = \"http://petshop.com/pets/mammals/cats\"\n",
        "\n",
        "print(username + ' ' + 'accessed the site' + '' + url + ' '+ 'at' + ' ' + timestamp)"
      ],
      "metadata": {
        "id": "0xoFuFFw48AX",
        "colab": {
          "base_uri": "https://localhost:8080/"
        },
        "outputId": "fd0f8bb9-677d-44d6-a552-71badbc4a8dc"
      },
      "execution_count": 80,
      "outputs": [
        {
          "output_type": "stream",
          "name": "stdout",
          "text": [
            "Kinari accessed the sitehttp://petshop.com/pets/mammals/cats at 04:50\n"
          ]
        }
      ]
    },
    {
      "cell_type": "markdown",
      "source": [
        "5. Use string concatenation and the `len()` function to find the length of a certain movie star's actual full name. Store that length in the name_length variable. Don't forget that there are spaces in between the different parts of a name!"
      ],
      "metadata": {
        "id": "I0khhJta5eal"
      }
    },
    {
      "cell_type": "code",
      "source": [
        "given_name = \"William\"\n",
        "middle_name = \"Bradley\"\n",
        "family_name = \"Pitt\"\n",
        "\n",
        "name_length = (given_name + ' ' + middle_name + ' ' + family_name)\n",
        "print(len(name_length))\n"
      ],
      "metadata": {
        "id": "zhNS8sDo5faD",
        "colab": {
          "base_uri": "https://localhost:8080/"
        },
        "outputId": "a29e04d0-3a5d-4ccb-f21d-28bff245efa8"
      },
      "execution_count": 83,
      "outputs": [
        {
          "output_type": "stream",
          "name": "stdout",
          "text": [
            "20\n"
          ]
        }
      ]
    },
    {
      "cell_type": "markdown",
      "source": [
        "6. Type Conversion\n",
        "\n",
        "- You will need to change the types of the input and output data in order to get the result you want.\n",
        "\n",
        "- Calculate and print the total sales for the week from the data provided.\n",
        "\n",
        "- Print out a string of the form \"This week's total sales: xxx\", where xxx will be the actual total of all the numbers. You’ll need to change the type of the input data in order to calculate that total."
      ],
      "metadata": {
        "id": "8Tkd7nsi5v_5"
      }
    },
    {
      "cell_type": "code",
      "source": [
        "mon_sales = 121\n",
        "tues_sales = 105\n",
        "wed_sales = 110\n",
        "thurs_sales = 98\n",
        "fri_sales = 95\n",
        "\n",
        "total_sales = (mon_sales + tues_sales + wed_sales + thurs_sales +fri_sales)\n",
        "\n",
        "print(total_sales)\n"
      ],
      "metadata": {
        "id": "gNE_Md8954Dx",
        "colab": {
          "base_uri": "https://localhost:8080/"
        },
        "outputId": "e56879e2-56f6-4de4-f840-bd839ab3855c"
      },
      "execution_count": 63,
      "outputs": [
        {
          "output_type": "stream",
          "name": "stdout",
          "text": [
            "529\n"
          ]
        }
      ]
    },
    {
      "cell_type": "markdown",
      "source": [
        "7. String methods\n",
        "\n",
        "Below, we have a string variable that contains the first verse of the poem, If by Rudyard Kipling(opens in a new tab)"
      ],
      "metadata": {
        "id": "6WXIVMFX6eNA"
      }
    },
    {
      "cell_type": "code",
      "source": [
        "verse = \"If you can keep your head when all about you\\n  Are losing theirs and blaming it on you,\\nIf you can trust yourself when all men doubt you,\\n  But make allowance for their doubting too;\\nIf you can wait and not be tired by waiting,\\n  Or being lied about, don’t deal in lies,\\nOr being hated, don’t give way to hating,\\n  And yet don’t look too good, nor talk too wise:\"\n",
        "print(len(verse))"
      ],
      "metadata": {
        "id": "4Kp9Vbxr6epE",
        "colab": {
          "base_uri": "https://localhost:8080/"
        },
        "outputId": "49888e0c-d773-41da-e8f4-2f7ece1652d8"
      },
      "execution_count": 102,
      "outputs": [
        {
          "output_type": "stream",
          "name": "stdout",
          "text": [
            "362\n"
          ]
        }
      ]
    },
    {
      "cell_type": "markdown",
      "source": [
        "What is the length of the string variable verse?"
      ],
      "metadata": {
        "id": "HX5plsix7Ntd"
      }
    },
    {
      "cell_type": "code",
      "source": [
        "print(len(verse))"
      ],
      "metadata": {
        "id": "uMA2Y5rG7OFR",
        "colab": {
          "base_uri": "https://localhost:8080/"
        },
        "outputId": "5bc1bf0a-0e17-4e19-a74f-73d0697b200c"
      },
      "execution_count": 104,
      "outputs": [
        {
          "output_type": "stream",
          "name": "stdout",
          "text": [
            "362\n"
          ]
        }
      ]
    },
    {
      "cell_type": "markdown",
      "source": [
        "What is the count of occurrences of the word 'you' in the verse?"
      ],
      "metadata": {
        "id": "XvEqzG-r7GMG"
      }
    },
    {
      "cell_type": "code",
      "source": [
        "print(verse.count(\"you\"))"
      ],
      "metadata": {
        "id": "SWeEUevY7Fui",
        "colab": {
          "base_uri": "https://localhost:8080/"
        },
        "outputId": "f1f6562e-f58b-4534-e103-766e417fbab3"
      },
      "execution_count": 105,
      "outputs": [
        {
          "output_type": "stream",
          "name": "stdout",
          "text": [
            "8\n"
          ]
        }
      ]
    },
    {
      "cell_type": "markdown",
      "source": [
        "What is the index of the first occurrence of the word 'head' in verse?"
      ],
      "metadata": {
        "id": "8Lvcl-0L7SmJ"
      }
    },
    {
      "cell_type": "code",
      "source": [
        "print(verse.find(\"head\"))"
      ],
      "metadata": {
        "id": "foPeKDud7SzQ",
        "colab": {
          "base_uri": "https://localhost:8080/"
        },
        "outputId": "00c6ad2a-7106-429c-ed75-1a5940b3444d"
      },
      "execution_count": 106,
      "outputs": [
        {
          "output_type": "stream",
          "name": "stdout",
          "text": [
            "21\n"
          ]
        }
      ]
    },
    {
      "cell_type": "markdown",
      "source": [
        "8. Which Prize?\n",
        "\n",
        "- Write an if statement that lets a competitor know which of these prizes they won based on the number of points they scored, which is stored in the integer variable points.\n",
        "\n",
        "|   Points| Prize  |   \n",
        "|---|---|\n",
        "|  1 - 50  |  Candy |\n",
        "|  51 - 150 |  Chocolate |  \n",
        "|  151 - 200 | Sports Car  |   \n",
        "|  201 - 250 | Mansion  |  \n",
        "\n",
        "\n",
        " - In your if statement, assign the result variable to a string holding the appropriate message based on the value of points. If they've won a prize, the message should state \"Congratulations! You won a [prize name]!\" with the prize name. If there's no prize, the message should state \"Oh dear, no prize this time.\""
      ],
      "metadata": {
        "id": "b1uSYvN374nv"
      }
    },
    {
      "cell_type": "code",
      "source": [
        "points = 23\n",
        "\n",
        "if points >= 1 and 50:\n",
        "  print(\"Congratulations! You won a Candy\")\n",
        "elif points >= 51 and 150:\n",
        "      (\"Congratulations! You won a Chocolate\")\n",
        "elif points >= 151 and 200:\n",
        "       (\"Congratulations! You won a Sports Car\")\n",
        "elif points >= 201 and 250 :\n",
        "        (\"Congratulations! You won a Mansion\")\n",
        "\n",
        "else:\n",
        "        print(\"Oh dear, no prize this time\")\n",
        ""
      ],
      "metadata": {
        "id": "rTDH4N1x7436",
        "colab": {
          "base_uri": "https://localhost:8080/"
        },
        "outputId": "3486655f-f894-4c5f-81d5-d1fd43803aa6"
      },
      "execution_count": 99,
      "outputs": [
        {
          "output_type": "stream",
          "name": "stdout",
          "text": [
            "Congratulations! You won a Candy\n"
          ]
        }
      ]
    },
    {
      "cell_type": "markdown",
      "source": [
        "9. Guess My Number\n",
        "\n",
        "- You decide you want to play a game where you are hiding a number from someone. Store this number in a variable called 'answer'. Another user provides a number called 'guess'. By comparing guess to answer, you inform the user if their guess is too high or too low.\n",
        "\n",
        "- Fill in the conditionals below to inform the user about how their guess compares to the answer."
      ],
      "metadata": {
        "id": "XdxTkPje9EUY"
      }
    },
    {
      "cell_type": "code",
      "source": [
        "\n",
        "\n",
        "answer = 15\n",
        "guess = 3\n",
        "\n",
        "if guess < answer:\n",
        "  print(\"higher\")\n",
        "elif guess > answer:\n",
        "  print (\"lower\")\n",
        "\n",
        "else:\n",
        "  print(\"Correct\")"
      ],
      "metadata": {
        "id": "tcsIibtJ9Eic",
        "colab": {
          "base_uri": "https://localhost:8080/"
        },
        "outputId": "57db7666-aa37-4b03-9a12-91a8247e5572"
      },
      "execution_count": 94,
      "outputs": [
        {
          "output_type": "stream",
          "name": "stdout",
          "text": [
            "higher\n"
          ]
        }
      ]
    }
  ]
}